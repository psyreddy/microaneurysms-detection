{
  "cells": [
    {
      "cell_type": "code",
      "execution_count": 1,
      "metadata": {
        "colab": {
          "base_uri": "https://localhost:8080/"
        },
        "id": "9o1p0iN9X4rY",
        "outputId": "e10b93de-bf14-4b4a-b6ca-6d58ebe7f83d"
      },
      "outputs": [
        {
          "output_type": "stream",
          "name": "stdout",
          "text": [
            "Collecting patchify\n",
            "  Downloading patchify-0.2.3-py3-none-any.whl (6.6 kB)\n",
            "Requirement already satisfied: numpy<2,>=1 in /usr/local/lib/python3.10/dist-packages (from patchify) (1.23.5)\n",
            "Installing collected packages: patchify\n",
            "Successfully installed patchify-0.2.3\n"
          ]
        }
      ],
      "source": [
        "%pip install patchify"
      ]
    },
    {
      "cell_type": "code",
      "execution_count": 2,
      "metadata": {
        "colab": {
          "base_uri": "https://localhost:8080/"
        },
        "id": "qR1si1VcXpXJ",
        "outputId": "456e0895-53fb-429e-c696-ef40ed4b13e8"
      },
      "outputs": [
        {
          "output_type": "stream",
          "name": "stdout",
          "text": [
            "Mounted at /content/drive\n"
          ]
        }
      ],
      "source": [
        "from google.colab import drive\n",
        "drive.mount('/content/drive')"
      ]
    },
    {
      "cell_type": "code",
      "execution_count": 3,
      "metadata": {
        "colab": {
          "base_uri": "https://localhost:8080/"
        },
        "id": "yGWzpLNG-TDi",
        "outputId": "f17ddf9e-7b65-445c-82f1-a0a22772bb57"
      },
      "outputs": [
        {
          "output_type": "stream",
          "name": "stdout",
          "text": [
            "/content/drive/MyDrive/computerVisionProject\n"
          ]
        }
      ],
      "source": [
        "%cd /content/drive/MyDrive/computerVisionProject"
      ]
    },
    {
      "cell_type": "code",
      "execution_count": 4,
      "metadata": {
        "colab": {
          "base_uri": "https://localhost:8080/"
        },
        "id": "2Np01Z-c-jtq",
        "outputId": "48bced15-95e2-49d2-86e5-2149d48281ef"
      },
      "outputs": [
        {
          "output_type": "stream",
          "name": "stdout",
          "text": [
            "100% 132/132 [02:45<00:00,  1.26s/it]\n",
            "100% 132/132 [07:33<00:00,  3.43s/it]\n"
          ]
        }
      ],
      "source": [
        "!python3 train_image_preprocessing.py"
      ]
    },
    {
      "cell_type": "code",
      "execution_count": 5,
      "metadata": {
        "colab": {
          "base_uri": "https://localhost:8080/"
        },
        "id": "ZfrXoo2M-bHY",
        "outputId": "403e0904-71b2-46b1-c98a-8fc6ae712ed9"
      },
      "outputs": [
        {
          "output_type": "stream",
          "name": "stdout",
          "text": [
            "100% 16/16 [00:40<00:00,  2.55s/it]\n",
            "100% 16/16 [00:49<00:00,  3.11s/it]\n"
          ]
        }
      ],
      "source": [
        "!python3 test_image_preprocessing.py"
      ]
    },
    {
      "cell_type": "code",
      "execution_count": 6,
      "metadata": {
        "id": "rIf1CkWz-DhF"
      },
      "outputs": [],
      "source": [
        "import os\n",
        "import cv2\n",
        "import math\n",
        "import numpy as np\n",
        "from matplotlib import pyplot\n",
        "from tqdm import tqdm\n",
        "import random\n",
        "from matplotlib.patches import Circle\n",
        "from tensorflow.keras.utils import *\n",
        "import tensorflow as tf\n",
        "from tensorflow.keras.layers import *\n",
        "from tensorflow.keras.models import *\n",
        "from sklearn.model_selection import train_test_split\n",
        "from tensorflow.keras.preprocessing.image import ImageDataGenerator\n",
        "import tensorflow.keras.backend as K"
      ]
    },
    {
      "cell_type": "code",
      "execution_count": 7,
      "metadata": {
        "id": "WW4Ix0hN-DhI"
      },
      "outputs": [],
      "source": [
        "x_path = 'dataSets/preprocessed/trainpatches/MA/x'\n",
        "y_path = 'dataSets/preprocessed/trainpatches/MA/y'\n",
        "x_N_path = 'dataSets/preprocessed/trainpatches/NonMA/x'\n",
        "y_N_path = 'dataSets/preprocessed/trainpatches/NonMA/y'\n",
        "x_lst = os.listdir(x_path)\n",
        "y_lst = os.listdir(y_path)\n",
        "x_N_lst = os.listdir(x_N_path)\n",
        "y_N_lst = os.listdir(y_N_path)"
      ]
    },
    {
      "cell_type": "code",
      "execution_count": 8,
      "metadata": {
        "colab": {
          "base_uri": "https://localhost:8080/"
        },
        "id": "7E-B-KcR-DhI",
        "outputId": "d3902a77-5536-4394-af04-63b32ffd4b7d"
      },
      "outputs": [
        {
          "output_type": "stream",
          "name": "stderr",
          "text": [
            "100%|██████████| 1183/1183 [00:17<00:00, 67.89it/s]\n"
          ]
        }
      ],
      "source": [
        "x = []\n",
        "y = []\n",
        "for i in tqdm(x_lst):\n",
        "    x_im_path = x_path+'/'+i\n",
        "    y_im_path = y_path+'/'+i\n",
        "    x_read = cv2.imread(x_im_path,cv2.IMREAD_UNCHANGED)\n",
        "    x_read = x_read/255\n",
        "    y_read = cv2.imread(y_im_path,cv2.IMREAD_UNCHANGED)\n",
        "    y_read = y_read/255\n",
        "    y_th_val,y_th = cv2.threshold(y_read,0.3,1,cv2.THRESH_BINARY)\n",
        "    x_read = np.expand_dims(x_read,axis=-1)\n",
        "    y_read = np.expand_dims(y_th,axis=-1)\n",
        "    x.append(x_read)\n",
        "    y.append(y_read)"
      ]
    },
    {
      "cell_type": "code",
      "execution_count": 9,
      "metadata": {
        "colab": {
          "base_uri": "https://localhost:8080/"
        },
        "id": "lsHT5rir-DhJ",
        "outputId": "ba0025f0-d233-4f58-a92b-3083af8ac3dd"
      },
      "outputs": [
        {
          "output_type": "stream",
          "name": "stderr",
          "text": [
            "100%|██████████| 1183/1183 [00:11<00:00, 101.79it/s]\n"
          ]
        }
      ],
      "source": [
        "for i in tqdm(range(len(x_lst))):\n",
        "    a = random.randint(0,len(x_N_lst)-1)\n",
        "    x_im_N_path = x_N_path+'/'+x_N_lst[a]\n",
        "    y_im_N_path = y_N_path+'/'+y_N_lst[a]\n",
        "    x_N_read = cv2.imread(x_im_N_path,cv2.IMREAD_UNCHANGED)\n",
        "    x_N_read = x_N_read/255\n",
        "    y_N_read = cv2.imread(y_im_N_path,cv2.IMREAD_UNCHANGED)\n",
        "    y_N_read = y_N_read/255\n",
        "    y_th_N_val,y_th_N = cv2.threshold(y_N_read,0.3,1,cv2.THRESH_BINARY)\n",
        "    x_N_read = np.expand_dims(x_N_read,axis=-1)\n",
        "    y_N_read = np.expand_dims(y_th_N,axis=-1)\n",
        "    x.append(x_N_read)\n",
        "    y.append(y_N_read)"
      ]
    },
    {
      "cell_type": "code",
      "execution_count": 10,
      "metadata": {
        "id": "pOtKoeQ6-DhK"
      },
      "outputs": [],
      "source": [
        "x = np.array(x,dtype='float32')\n",
        "y = np.array(y,dtype='float32')\n",
        "\n",
        "x = np.array(x)\n",
        "y = np.array(y)"
      ]
    },
    {
      "cell_type": "code",
      "execution_count": 11,
      "metadata": {
        "id": "XvhG-hyd-DhK"
      },
      "outputs": [],
      "source": [
        "def attention_block(x,gating,channel):\n",
        "\n",
        "    # x = x[0]\n",
        "    theta_x = Conv2D(channel, kernel_size=(1,1), strides=(2,2), padding='same')(x)\n",
        "    phi_g = Conv2D(channel, kernel_size=(1,1), strides=(1,1), padding='same')(gating)\n",
        "    add_x_g = add([theta_x, phi_g])\n",
        "    act_xg = Activation('relu')(add_x_g)\n",
        "    si = Conv2D(1, kernel_size=(1,1), padding='same')(act_xg)\n",
        "    act_sig = Activation('sigmoid')(si)\n",
        "    # si_up = UpSampling2D(size=(x.shape[1],x.shape[2]))(act_sig)\n",
        "    si_up = Conv2DTranspose(channel, kernel_size=(1,1), padding='same', strides=(2,2))(act_sig)\n",
        "    si_mul = multiply([si_up,x])\n",
        "    result = Conv2D(x.shape[3], kernel_size=(1,1), padding='same')(si_mul)\n",
        "    return result"
      ]
    },
    {
      "cell_type": "code",
      "execution_count": 12,
      "metadata": {
        "id": "S6Bkm1oo-DhK"
      },
      "outputs": [],
      "source": [
        "def build_model(input_layer = (128,128,1), filters = 1):\n",
        "    x_input = Input(input_layer)\n",
        "    # print(type(x_input))\n",
        "\n",
        "    #s = tf.keras.layers.Lambda(lambda x_input:x_input/255)(x_input)\n",
        "\n",
        "    conv1 = Conv2D(filters * 1, (3, 3), activation=\"relu\", padding=\"same\")(x_input)\n",
        "    conv1 = Dropout(0.25)(conv1)\n",
        "    conv1 = Conv2D(filters * 1, (3, 3), activation=\"relu\", padding=\"same\")(conv1)\n",
        "    pool1 = MaxPooling2D((2, 2))(conv1)\n",
        "\n",
        "    conv2 = Conv2D(filters * 2, (3, 3), activation=\"relu\", padding=\"same\")(pool1)\n",
        "    conv2 = Dropout(0.5)(conv2)\n",
        "    conv2 = Conv2D(filters * 2, (3, 3), activation=\"relu\", padding=\"same\")(conv2)\n",
        "    pool2 = MaxPooling2D((2, 2))(conv2)\n",
        "\n",
        "    # Middle\n",
        "    conv3 = Conv2D(filters * 4, (3, 3), activation=\"relu\", padding=\"same\")(pool2)\n",
        "    conv3 = Conv2D(filters * 4, (3, 3), activation=\"relu\", padding=\"same\")(conv3)\n",
        "    pool3 = Dropout(0.5)(conv3)\n",
        "\n",
        "\n",
        "\n",
        "    deconv2 = Conv2DTranspose(filters * 2, (3, 3), strides=(2, 2), padding=\"same\")(pool3)\n",
        "    X_att = attention_block(conv2, pool3, (filters*2))\n",
        "    uconv2 = subtract([X_att, deconv2])\n",
        "    uconv2 = Conv2D(filters * 2, (3, 3), activation=\"relu\", padding=\"same\")(uconv2)\n",
        "    uconv2 = Dropout(0.5)(uconv2)\n",
        "    uconv2 = Conv2D(filters * 2, (3, 3), activation=\"relu\", padding=\"same\")(uconv2)\n",
        "\n",
        "    deconv1 = Conv2DTranspose(filters * 1, (3, 3), strides=(2, 2), padding=\"same\")(uconv2)\n",
        "    X_att1 = attention_block(conv1, uconv2, (filters*1))\n",
        "    uconv1 = subtract([X_att1, deconv1])\n",
        "    uconv1 = Conv2D(filters * 1, (3, 3), activation=\"relu\", padding=\"same\")(uconv1)\n",
        "    uconv1 = Conv2D(filters * 1, (3, 3), activation=\"relu\", padding=\"same\")(uconv1)\n",
        "    uconv1 = Dropout(0.5)(uconv1)\n",
        "    uconv1 = Conv2D(2, (3,3), activation=\"relu\", padding=\"same\")(uconv1)\n",
        "\n",
        "    output_layer = Conv2D(1, (1,1), padding=\"same\", activation=\"sigmoid\")(uconv1)\n",
        "\n",
        "    model = Model(inputs= x_input, outputs= output_layer)\n",
        "\n",
        "    return model"
      ]
    },
    {
      "cell_type": "code",
      "execution_count": 13,
      "metadata": {
        "colab": {
          "base_uri": "https://localhost:8080/"
        },
        "id": "PxLti24c-DhL",
        "outputId": "81b5b6f5-8bae-4d8e-8e6b-eb1c440c9dbe"
      },
      "outputs": [
        {
          "output_type": "stream",
          "name": "stdout",
          "text": [
            "Model: \"model\"\n",
            "__________________________________________________________________________________________________\n",
            " Layer (type)                Output Shape                 Param #   Connected to                  \n",
            "==================================================================================================\n",
            " input_1 (InputLayer)        [(None, 128, 128, 1)]        0         []                            \n",
            "                                                                                                  \n",
            " conv2d (Conv2D)             (None, 128, 128, 64)         640       ['input_1[0][0]']             \n",
            "                                                                                                  \n",
            " dropout (Dropout)           (None, 128, 128, 64)         0         ['conv2d[0][0]']              \n",
            "                                                                                                  \n",
            " conv2d_1 (Conv2D)           (None, 128, 128, 64)         36928     ['dropout[0][0]']             \n",
            "                                                                                                  \n",
            " max_pooling2d (MaxPooling2  (None, 64, 64, 64)           0         ['conv2d_1[0][0]']            \n",
            " D)                                                                                               \n",
            "                                                                                                  \n",
            " conv2d_2 (Conv2D)           (None, 64, 64, 128)          73856     ['max_pooling2d[0][0]']       \n",
            "                                                                                                  \n",
            " dropout_1 (Dropout)         (None, 64, 64, 128)          0         ['conv2d_2[0][0]']            \n",
            "                                                                                                  \n",
            " conv2d_3 (Conv2D)           (None, 64, 64, 128)          147584    ['dropout_1[0][0]']           \n",
            "                                                                                                  \n",
            " max_pooling2d_1 (MaxPoolin  (None, 32, 32, 128)          0         ['conv2d_3[0][0]']            \n",
            " g2D)                                                                                             \n",
            "                                                                                                  \n",
            " conv2d_4 (Conv2D)           (None, 32, 32, 256)          295168    ['max_pooling2d_1[0][0]']     \n",
            "                                                                                                  \n",
            " conv2d_5 (Conv2D)           (None, 32, 32, 256)          590080    ['conv2d_4[0][0]']            \n",
            "                                                                                                  \n",
            " dropout_2 (Dropout)         (None, 32, 32, 256)          0         ['conv2d_5[0][0]']            \n",
            "                                                                                                  \n",
            " conv2d_6 (Conv2D)           (None, 32, 32, 128)          16512     ['conv2d_3[0][0]']            \n",
            "                                                                                                  \n",
            " conv2d_7 (Conv2D)           (None, 32, 32, 128)          32896     ['dropout_2[0][0]']           \n",
            "                                                                                                  \n",
            " add (Add)                   (None, 32, 32, 128)          0         ['conv2d_6[0][0]',            \n",
            "                                                                     'conv2d_7[0][0]']            \n",
            "                                                                                                  \n",
            " activation (Activation)     (None, 32, 32, 128)          0         ['add[0][0]']                 \n",
            "                                                                                                  \n",
            " conv2d_8 (Conv2D)           (None, 32, 32, 1)            129       ['activation[0][0]']          \n",
            "                                                                                                  \n",
            " activation_1 (Activation)   (None, 32, 32, 1)            0         ['conv2d_8[0][0]']            \n",
            "                                                                                                  \n",
            " conv2d_transpose_1 (Conv2D  (None, 64, 64, 128)          256       ['activation_1[0][0]']        \n",
            " Transpose)                                                                                       \n",
            "                                                                                                  \n",
            " multiply (Multiply)         (None, 64, 64, 128)          0         ['conv2d_transpose_1[0][0]',  \n",
            "                                                                     'conv2d_3[0][0]']            \n",
            "                                                                                                  \n",
            " conv2d_9 (Conv2D)           (None, 64, 64, 128)          16512     ['multiply[0][0]']            \n",
            "                                                                                                  \n",
            " conv2d_transpose (Conv2DTr  (None, 64, 64, 128)          295040    ['dropout_2[0][0]']           \n",
            " anspose)                                                                                         \n",
            "                                                                                                  \n",
            " subtract (Subtract)         (None, 64, 64, 128)          0         ['conv2d_9[0][0]',            \n",
            "                                                                     'conv2d_transpose[0][0]']    \n",
            "                                                                                                  \n",
            " conv2d_10 (Conv2D)          (None, 64, 64, 128)          147584    ['subtract[0][0]']            \n",
            "                                                                                                  \n",
            " dropout_3 (Dropout)         (None, 64, 64, 128)          0         ['conv2d_10[0][0]']           \n",
            "                                                                                                  \n",
            " conv2d_11 (Conv2D)          (None, 64, 64, 128)          147584    ['dropout_3[0][0]']           \n",
            "                                                                                                  \n",
            " conv2d_12 (Conv2D)          (None, 64, 64, 64)           4160      ['conv2d_1[0][0]']            \n",
            "                                                                                                  \n",
            " conv2d_13 (Conv2D)          (None, 64, 64, 64)           8256      ['conv2d_11[0][0]']           \n",
            "                                                                                                  \n",
            " add_1 (Add)                 (None, 64, 64, 64)           0         ['conv2d_12[0][0]',           \n",
            "                                                                     'conv2d_13[0][0]']           \n",
            "                                                                                                  \n",
            " activation_2 (Activation)   (None, 64, 64, 64)           0         ['add_1[0][0]']               \n",
            "                                                                                                  \n",
            " conv2d_14 (Conv2D)          (None, 64, 64, 1)            65        ['activation_2[0][0]']        \n",
            "                                                                                                  \n",
            " activation_3 (Activation)   (None, 64, 64, 1)            0         ['conv2d_14[0][0]']           \n",
            "                                                                                                  \n",
            " conv2d_transpose_3 (Conv2D  (None, 128, 128, 64)         128       ['activation_3[0][0]']        \n",
            " Transpose)                                                                                       \n",
            "                                                                                                  \n",
            " multiply_1 (Multiply)       (None, 128, 128, 64)         0         ['conv2d_transpose_3[0][0]',  \n",
            "                                                                     'conv2d_1[0][0]']            \n",
            "                                                                                                  \n",
            " conv2d_15 (Conv2D)          (None, 128, 128, 64)         4160      ['multiply_1[0][0]']          \n",
            "                                                                                                  \n",
            " conv2d_transpose_2 (Conv2D  (None, 128, 128, 64)         73792     ['conv2d_11[0][0]']           \n",
            " Transpose)                                                                                       \n",
            "                                                                                                  \n",
            " subtract_1 (Subtract)       (None, 128, 128, 64)         0         ['conv2d_15[0][0]',           \n",
            "                                                                     'conv2d_transpose_2[0][0]']  \n",
            "                                                                                                  \n",
            " conv2d_16 (Conv2D)          (None, 128, 128, 64)         36928     ['subtract_1[0][0]']          \n",
            "                                                                                                  \n",
            " conv2d_17 (Conv2D)          (None, 128, 128, 64)         36928     ['conv2d_16[0][0]']           \n",
            "                                                                                                  \n",
            " dropout_4 (Dropout)         (None, 128, 128, 64)         0         ['conv2d_17[0][0]']           \n",
            "                                                                                                  \n",
            " conv2d_18 (Conv2D)          (None, 128, 128, 2)          1154      ['dropout_4[0][0]']           \n",
            "                                                                                                  \n",
            " conv2d_19 (Conv2D)          (None, 128, 128, 1)          3         ['conv2d_18[0][0]']           \n",
            "                                                                                                  \n",
            "==================================================================================================\n",
            "Total params: 1966343 (7.50 MB)\n",
            "Trainable params: 1966343 (7.50 MB)\n",
            "Non-trainable params: 0 (0.00 Byte)\n",
            "__________________________________________________________________________________________________\n"
          ]
        }
      ],
      "source": [
        "model = build_model((128,128,1),64)\n",
        "model.summary()"
      ]
    },
    {
      "cell_type": "code",
      "execution_count": 14,
      "metadata": {
        "id": "O6vJvfCJ-DhM"
      },
      "outputs": [],
      "source": [
        "opt = tf.keras.optimizers.Adam(learning_rate=0.0001,beta_1=0.9,beta_2=0.999)"
      ]
    },
    {
      "cell_type": "code",
      "execution_count": 15,
      "metadata": {
        "id": "-Hoihi47-DhM"
      },
      "outputs": [],
      "source": [
        "model.compile(optimizer=opt,loss='binary_crossentropy',metrics=['accuracy'])"
      ]
    },
    {
      "cell_type": "code",
      "execution_count": 16,
      "metadata": {
        "id": "8Rslzocy-DhM"
      },
      "outputs": [],
      "source": [
        "x_train, x_test, y_train, y_test = train_test_split(x, y, test_size = 0.1, random_state = 42,shuffle=True)"
      ]
    },
    {
      "cell_type": "code",
      "execution_count": 18,
      "metadata": {
        "colab": {
          "base_uri": "https://localhost:8080/"
        },
        "id": "DRDRL2PD-DhN",
        "outputId": "5e512550-09eb-417a-bd4f-bcbeea5c08ac"
      },
      "outputs": [
        {
          "output_type": "stream",
          "name": "stdout",
          "text": [
            "Epoch 1/20\n",
            "67/67 [==============================] - 25s 366ms/step - loss: 0.0247 - accuracy: 0.9961 - val_loss: 0.1238 - val_accuracy: 0.9957\n",
            "Epoch 2/20\n",
            "67/67 [==============================] - 24s 366ms/step - loss: 0.0243 - accuracy: 0.9961 - val_loss: 0.1110 - val_accuracy: 0.9957\n",
            "Epoch 3/20\n",
            "67/67 [==============================] - 24s 363ms/step - loss: 0.0246 - accuracy: 0.9961 - val_loss: 0.0868 - val_accuracy: 0.9957\n",
            "Epoch 4/20\n",
            "67/67 [==============================] - 25s 374ms/step - loss: 0.0245 - accuracy: 0.9961 - val_loss: 0.0890 - val_accuracy: 0.9957\n",
            "Epoch 5/20\n",
            "67/67 [==============================] - 25s 373ms/step - loss: 0.0241 - accuracy: 0.9961 - val_loss: 0.1189 - val_accuracy: 0.9957\n",
            "Epoch 6/20\n",
            "67/67 [==============================] - 25s 373ms/step - loss: 0.0241 - accuracy: 0.9961 - val_loss: 0.1005 - val_accuracy: 0.9957\n",
            "Epoch 7/20\n",
            "67/67 [==============================] - 25s 373ms/step - loss: 0.0239 - accuracy: 0.9961 - val_loss: 0.0943 - val_accuracy: 0.9957\n",
            "Epoch 8/20\n",
            "67/67 [==============================] - 25s 373ms/step - loss: 0.0238 - accuracy: 0.9961 - val_loss: 0.0875 - val_accuracy: 0.9957\n",
            "Epoch 9/20\n",
            "67/67 [==============================] - 25s 373ms/step - loss: 0.0237 - accuracy: 0.9961 - val_loss: 0.0931 - val_accuracy: 0.9957\n",
            "Epoch 10/20\n",
            "67/67 [==============================] - 24s 364ms/step - loss: 0.0238 - accuracy: 0.9961 - val_loss: 0.0913 - val_accuracy: 0.9957\n",
            "Epoch 11/20\n",
            "67/67 [==============================] - 25s 373ms/step - loss: 0.0237 - accuracy: 0.9961 - val_loss: 0.0876 - val_accuracy: 0.9957\n",
            "Epoch 12/20\n",
            "67/67 [==============================] - 25s 374ms/step - loss: 0.0237 - accuracy: 0.9961 - val_loss: 0.0745 - val_accuracy: 0.9957\n",
            "Epoch 13/20\n",
            "67/67 [==============================] - 25s 374ms/step - loss: 0.0235 - accuracy: 0.9961 - val_loss: 0.0635 - val_accuracy: 0.9957\n",
            "Epoch 14/20\n",
            "67/67 [==============================] - 24s 365ms/step - loss: 0.0234 - accuracy: 0.9961 - val_loss: 0.0570 - val_accuracy: 0.9957\n",
            "Epoch 15/20\n",
            "67/67 [==============================] - 25s 373ms/step - loss: 0.0237 - accuracy: 0.9961 - val_loss: 0.0580 - val_accuracy: 0.9957\n",
            "Epoch 16/20\n",
            "67/67 [==============================] - 25s 373ms/step - loss: 0.0234 - accuracy: 0.9961 - val_loss: 0.0593 - val_accuracy: 0.9957\n",
            "Epoch 17/20\n",
            "67/67 [==============================] - 25s 372ms/step - loss: 0.0238 - accuracy: 0.9961 - val_loss: 0.0434 - val_accuracy: 0.9957\n",
            "Epoch 18/20\n",
            "67/67 [==============================] - 24s 363ms/step - loss: 0.0233 - accuracy: 0.9961 - val_loss: 0.0422 - val_accuracy: 0.9957\n",
            "Epoch 19/20\n",
            "67/67 [==============================] - 25s 373ms/step - loss: 0.0231 - accuracy: 0.9961 - val_loss: 0.0470 - val_accuracy: 0.9957\n",
            "Epoch 20/20\n",
            "67/67 [==============================] - 25s 373ms/step - loss: 0.0232 - accuracy: 0.9961 - val_loss: 0.0472 - val_accuracy: 0.9957\n"
          ]
        }
      ],
      "source": [
        "history = model.fit(x=x_train,y=y_train,epochs=20,validation_data=(x_test,y_test))"
      ]
    },
    {
      "cell_type": "code",
      "execution_count": 19,
      "metadata": {
        "id": "fchWj6O1-DhN"
      },
      "outputs": [],
      "source": [
        "model.save('model_20_epoch.keras')"
      ]
    },
    {
      "cell_type": "code",
      "execution_count": 20,
      "metadata": {
        "colab": {
          "base_uri": "https://localhost:8080/"
        },
        "id": "poxvpfls-DhN",
        "outputId": "8bfdf96a-0bb2-458e-da2c-5e19df6667fa"
      },
      "outputs": [
        {
          "output_type": "stream",
          "name": "stdout",
          "text": [
            "dict_keys(['loss', 'accuracy', 'val_loss', 'val_accuracy'])\n"
          ]
        }
      ],
      "source": [
        "print(history.history.keys())"
      ]
    },
    {
      "cell_type": "code",
      "execution_count": 21,
      "metadata": {
        "colab": {
          "base_uri": "https://localhost:8080/",
          "height": 472
        },
        "id": "0tOpcKPZ-DhN",
        "outputId": "1719cf27-ff74-4d31-cb95-f5a931049c20"
      },
      "outputs": [
        {
          "output_type": "display_data",
          "data": {
            "text/plain": [
              "<Figure size 640x480 with 1 Axes>"
            ],
            "image/png": "[encoded data removed]"
          },
          "metadata": {}
        }
      ],
      "source": [
        "pyplot.plot(history.history['accuracy'])\n",
        "pyplot.plot(history.history['val_accuracy'])\n",
        "pyplot.title('model accuracy')\n",
        "pyplot.ylabel('accuracy')\n",
        "pyplot.xlabel('epoch')\n",
        "pyplot.legend(['train', 'test'], loc='upper left')\n",
        "pyplot.show()"
      ]
    },
    {
      "cell_type": "code",
      "execution_count": 22,
      "metadata": {
        "colab": {
          "base_uri": "https://localhost:8080/",
          "height": 472
        },
        "id": "KM0_wK1z-DhN",
        "outputId": "2d4d6df3-c763-4d4c-a953-0916d9f27eff"
      },
      "outputs": [
        {
          "output_type": "display_data",
          "data": {
            "text/plain": [
              "<Figure size 640x480 with 1 Axes>"
            ],
            "image/png": "[encoded data removed]"
          },
          "metadata": {}
        }
      ],
      "source": [
        "pyplot.plot(history.history['loss'])\n",
        "pyplot.plot(history.history['val_loss'])\n",
        "pyplot.title('model loss')\n",
        "pyplot.ylabel('loss')\n",
        "pyplot.xlabel('epoch')\n",
        "pyplot.legend(['train', 'test'], loc='upper left')\n",
        "pyplot.show()"
      ]
    }
  ],
  "metadata": {
    "accelerator": "GPU",
    "colab": {
      "gpuType": "T4",
      "provenance": []
    },
    "kernelspec": {
      "display_name": "Python 3",
      "name": "python3"
    },
    "language_info": {
      "codemirror_mode": {
        "name": "ipython",
        "version": 3
      },
      "file_extension": ".py",
      "mimetype": "text/x-python",
      "name": "python",
      "nbconvert_exporter": "python",
      "pygments_lexer": "ipython3",
      "version": "3.10.11"
    },
    "orig_nbformat": 4,
    "vscode": {
      "interpreter": {
        "hash": "31f2aee4e71d21fbe5cf8b01ff0e069b9275f58929596ceb00d14d90e3e16cd6"
      }
    }
  },
  "nbformat": 4,
  "nbformat_minor": 0
}